{
 "cells": [
  {
   "cell_type": "code",
   "execution_count": null,
   "metadata": {},
   "outputs": [],
   "source": [
    "import os\n",
    "import numpy as np\n",
    "from IPython.core.debugger import set_trace"
   ]
  },
  {
   "cell_type": "code",
   "execution_count": null,
   "metadata": {},
   "outputs": [],
   "source": [
    "sub2vec_dir = \"sub2vec\"\n",
    "\n",
    "save_dir = \"features\"\n",
    "if not os.path.exists(save_dir):\n",
    "    os.mkdir(save_dir)\n",
    "    \n",
    "input_trees = \"incontrege_subtrees\"\n",
    "num_iters = 5"
   ]
  },
  {
   "cell_type": "code",
   "execution_count": null,
   "metadata": {},
   "outputs": [],
   "source": [
    "all_probabilities = np.load(\"all_beam_probabilities.npy\", allow_pickle=True)\n",
    "print(all_probabilities.shape)"
   ]
  },
  {
   "cell_type": "code",
   "execution_count": null,
   "metadata": {},
   "outputs": [],
   "source": [
    "for ite in range(num_iters):\n",
    "    print(\"python {}/src/main.py --input {} --property n --output {}/incontrege_set_{} --d 15 --windowSize 5 --model dbon\"\\\n",
    "              .format(sub2vec_dir, input_trees, save_dir, ite))\n",
    "    if not os.path.exists(\"{}/incontrege_set_{}\".format(save_dir, ite)):\n",
    "        os.system(\"python {}/src/main.py --input {} --property n --output {}/incontrege_set_{} --d 15 --windowSize 5 --model dbon\"\\\n",
    "              .format(sub2vec_dir, input_trees, save_dir, ite))    \n",
    "    graph_emb_file = \"{}/incontrege_set_{}\".format(save_dir, ite)\n",
    "    graph_emb_file = open(graph_emb_file,\"r\").readlines()\n",
    "    graph_emb_file = graph_emb_file[1:]\n",
    "    emb_len = 15\n",
    "    final_embeddings = []\n",
    "    for i in range(5176):\n",
    "        final_embeddings.append([0.0]*emb_len)\n",
    "    \n",
    "    for line in graph_emb_file:\n",
    "        line = line.strip().split(\"\\t\")\n",
    "        if not line[0].startswith(\"subGraph\"):\n",
    "            continue\n",
    "            \n",
    "        wordnum, rank = line[0][8:].split(\"_\")\n",
    "        wordnum = int(wordnum)\n",
    "        rank = int(rank)\n",
    "        \n",
    "        embs = line[1:]\n",
    "        for i in range(emb_len):\n",
    "            final_embeddings[wordnum][i] += (float(embs[i]) * all_probabilities[wordnum][rank])\n",
    "\n",
    "    print(len(final_embeddings))\n",
    "    print(len(final_embeddings[0]))\n",
    "\n",
    "    np.save(\"{}/incontrege_set_{}.npy\".format(save_dir, ite),final_embeddings)"
   ]
  },
  {
   "cell_type": "code",
   "execution_count": null,
   "metadata": {},
   "outputs": [],
   "source": []
  }
 ],
 "metadata": {
  "kernelspec": {
   "display_name": "Python 3",
   "language": "python",
   "name": "python3"
  },
  "language_info": {
   "codemirror_mode": {
    "name": "ipython",
    "version": 3
   },
   "file_extension": ".py",
   "mimetype": "text/x-python",
   "name": "python",
   "nbconvert_exporter": "python",
   "pygments_lexer": "ipython3",
   "version": "3.8.5"
  }
 },
 "nbformat": 4,
 "nbformat_minor": 2
}
