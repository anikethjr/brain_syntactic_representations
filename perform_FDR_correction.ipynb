{
 "cells": [
  {
   "cell_type": "code",
   "execution_count": 1,
   "metadata": {},
   "outputs": [],
   "source": [
    "import numpy as np\n",
    "from scipy.io import loadmat\n",
    "from scipy import stats\n",
    "from IPython.core.debugger import set_trace\n",
    "import pickle\n",
    "import os\n",
    "from tqdm import tqdm\n",
    "import random\n",
    "from joblib import Parallel, delayed\n",
    "\n",
    "random.seed(97)\n",
    "np.random.seed(97)\n",
    "\n",
    "root_save_dir = \"predictions/\"\n",
    "sub_data = \"sub_space_data/\""
   ]
  },
  {
   "cell_type": "code",
   "execution_count": 2,
   "metadata": {},
   "outputs": [],
   "source": [
    "def FDR(vector, q, do_correction = False):\n",
    "    original_shape = vector.shape\n",
    "    vector = vector.flatten()\n",
    "    N = vector.shape[0]\n",
    "    sorted_vector = sorted(vector)\n",
    "    if do_correction:\n",
    "        C = np.sum([1.0/i for i in range(N)])\n",
    "    else:\n",
    "        C = 1.0\n",
    "    thresh = 0\n",
    "    #a=b\n",
    "    for i in range(N-1, 0, -1):\n",
    "        if sorted_vector[i]<= (i*1.0)/N*q/C:\n",
    "            thresh = sorted_vector[i]\n",
    "            break\n",
    "    thresh_vector = vector<=thresh\n",
    "    thresh_vector = thresh_vector.reshape(original_shape)\n",
    "    thresh_vector = thresh_vector*1.0\n",
    "    print(\"FDR threshold is : {}, {} voxels rejected\".format(thresh, thresh_vector.sum()))\n",
    "    return thresh_vector, thresh"
   ]
  },
  {
   "cell_type": "code",
   "execution_count": 3,
   "metadata": {},
   "outputs": [],
   "source": [
    "all_subjects = [\"F\",\"G\",\"H\",\"I\",\"J\",\"K\",\"L\",\"M\",\"N\"]\n",
    "all_feature_pairs = [\n",
    "                     (\"node_count_punct\", \"punct_final\"), # (NC + PU) - (PU)\n",
    "                     (\"syntactic_surprisal_punct\", \"punct_final\"), # (SS + PU) - (PU)                 \n",
    "                     (\"word_frequency_punct\", \"punct_final\"), # (WF + PU) - (PU)\n",
    "                     (\"word_length_punct\", \"punct_final\"), # (WL + PU) - (PU)\n",
    "                     (\"all_effort_based_metrics_punct\", \"punct_final\"), # (EFF + PU) - (PU)\n",
    "                     (\"pos_dep_tags_all_effort_based_metrics\", \"all_effort_based_metrics_punct\"), # since PD already contains PU, this tests (PD + EFF + PU) - (EFF + PU)\n",
    "                     (\"aggregated_contrege_comp_pos_dep_tags_all_effort_based_metrics\", \"pos_dep_tags_all_effort_based_metrics\"), # (CC + PD + EFF + PU) - (PD + EFF + PU)\n",
    "                     (\"aggregated_contrege_incomp_pos_dep_tags_all_effort_based_metrics\", \"pos_dep_tags_all_effort_based_metrics\"), # (CI + PD + EFF + PU) - (PD + EFF + PU)\n",
    "                     (\"aggregated_incontrege_pos_dep_tags_all_effort_based_metrics\", \"pos_dep_tags_all_effort_based_metrics\"), # (INC + PD + EFF + PU) - (PD + EFF + PU)\n",
    "                     (\"aggregated_bert_PCA_dims_15_contrege_incomp_pos_dep_tags_all_effort_based_metrics\", \"aggregated_contrege_incomp_pos_dep_tags_all_effort_based_metrics\") # (BERT + CI + PD + EFF + PU) - (CI + PD + EFF + PU)\n",
    "                    ]"
   ]
  },
  {
   "cell_type": "code",
   "execution_count": 4,
   "metadata": {},
   "outputs": [
    {
     "name": "stdout",
     "output_type": "stream",
     "text": [
      "F\n",
      "G\n",
      "H\n",
      "I\n",
      "J\n",
      "K\n",
      "L\n",
      "M\n",
      "N\n"
     ]
    }
   ],
   "source": [
    "all_uncorrected_sig = []\n",
    "for sub in all_subjects:\n",
    "    print(sub)\n",
    "    punct_uncorrected_sig = np.load(root_save_dir + \"punct_final\" + \"/{}_sig.npy\".format(sub))\n",
    "    all_uncorrected_sig.append(punct_uncorrected_sig)\n",
    "    \n",
    "    for feat in all_feature_pairs:\n",
    "        uncorrected_sig = np.load(root_save_dir + \"{}_diff_{}\".format(feat[0],feat[1]) + \"/{}_sig_boot.npy\".format(sub))\n",
    "        all_uncorrected_sig.append(uncorrected_sig)"
   ]
  },
  {
   "cell_type": "code",
   "execution_count": 5,
   "metadata": {},
   "outputs": [
    {
     "name": "stdout",
     "output_type": "stream",
     "text": [
      "FDR threshold is : 0.0008, 45143.0 voxels rejected\n"
     ]
    }
   ],
   "source": [
    "q = 0.05\n",
    "all_corrected_sig, _ = FDR(np.hstack(all_uncorrected_sig), q)"
   ]
  },
  {
   "cell_type": "code",
   "execution_count": 6,
   "metadata": {},
   "outputs": [
    {
     "name": "stdout",
     "output_type": "stream",
     "text": [
      "F\n",
      "punct_final: Num voxels rejected = 2169.0\n",
      "node_count_punct_diff_punct_final: Num voxels rejected = 176.0\n",
      "syntactic_surprisal_punct_diff_punct_final: Num voxels rejected = 216.0\n",
      "word_frequency_punct_diff_punct_final: Num voxels rejected = 332.0\n",
      "word_length_punct_diff_punct_final: Num voxels rejected = 302.0\n",
      "all_effort_based_metrics_punct_diff_punct_final: Num voxels rejected = 470.0\n",
      "pos_dep_tags_all_effort_based_metrics_diff_all_effort_based_metrics_punct: Num voxels rejected = 377.0\n",
      "aggregated_contrege_pos_dep_tags_all_effort_based_metrics_diff_pos_dep_tags_all_effort_based_metrics: Num voxels rejected = 678.0\n",
      "aggregated_contrege_comp_pos_dep_tags_all_effort_based_metrics_diff_pos_dep_tags_all_effort_based_metrics: Num voxels rejected = 308.0\n",
      "aggregated_beam_incontrege_pos_dep_tags_all_effort_based_metrics_diff_pos_dep_tags_all_effort_based_metrics: Num voxels rejected = 472.0\n",
      "aggregated_bert_PCA_dims_15_contrege_pos_dep_tags_all_effort_based_metrics_diff_aggregated_contrege_pos_dep_tags_all_effort_based_metrics: Num voxels rejected = 1124.0\n",
      "G\n",
      "punct_final: Num voxels rejected = 757.0\n",
      "node_count_punct_diff_punct_final: Num voxels rejected = 64.0\n",
      "syntactic_surprisal_punct_diff_punct_final: Num voxels rejected = 121.0\n",
      "word_frequency_punct_diff_punct_final: Num voxels rejected = 133.0\n",
      "word_length_punct_diff_punct_final: Num voxels rejected = 266.0\n",
      "all_effort_based_metrics_punct_diff_punct_final: Num voxels rejected = 376.0\n",
      "pos_dep_tags_all_effort_based_metrics_diff_all_effort_based_metrics_punct: Num voxels rejected = 179.0\n",
      "aggregated_contrege_pos_dep_tags_all_effort_based_metrics_diff_pos_dep_tags_all_effort_based_metrics: Num voxels rejected = 214.0\n",
      "aggregated_contrege_comp_pos_dep_tags_all_effort_based_metrics_diff_pos_dep_tags_all_effort_based_metrics: Num voxels rejected = 294.0\n",
      "aggregated_beam_incontrege_pos_dep_tags_all_effort_based_metrics_diff_pos_dep_tags_all_effort_based_metrics: Num voxels rejected = 154.0\n",
      "aggregated_bert_PCA_dims_15_contrege_pos_dep_tags_all_effort_based_metrics_diff_aggregated_contrege_pos_dep_tags_all_effort_based_metrics: Num voxels rejected = 314.0\n",
      "H\n",
      "punct_final: Num voxels rejected = 2974.0\n",
      "node_count_punct_diff_punct_final: Num voxels rejected = 198.0\n",
      "syntactic_surprisal_punct_diff_punct_final: Num voxels rejected = 238.0\n",
      "word_frequency_punct_diff_punct_final: Num voxels rejected = 239.0\n",
      "word_length_punct_diff_punct_final: Num voxels rejected = 275.0\n",
      "all_effort_based_metrics_punct_diff_punct_final: Num voxels rejected = 500.0\n",
      "pos_dep_tags_all_effort_based_metrics_diff_all_effort_based_metrics_punct: Num voxels rejected = 655.0\n",
      "aggregated_contrege_pos_dep_tags_all_effort_based_metrics_diff_pos_dep_tags_all_effort_based_metrics: Num voxels rejected = 653.0\n",
      "aggregated_contrege_comp_pos_dep_tags_all_effort_based_metrics_diff_pos_dep_tags_all_effort_based_metrics: Num voxels rejected = 383.0\n",
      "aggregated_beam_incontrege_pos_dep_tags_all_effort_based_metrics_diff_pos_dep_tags_all_effort_based_metrics: Num voxels rejected = 356.0\n",
      "aggregated_bert_PCA_dims_15_contrege_pos_dep_tags_all_effort_based_metrics_diff_aggregated_contrege_pos_dep_tags_all_effort_based_metrics: Num voxels rejected = 828.0\n",
      "I\n",
      "punct_final: Num voxels rejected = 4660.0\n",
      "node_count_punct_diff_punct_final: Num voxels rejected = 68.0\n",
      "syntactic_surprisal_punct_diff_punct_final: Num voxels rejected = 69.0\n",
      "word_frequency_punct_diff_punct_final: Num voxels rejected = 84.0\n",
      "word_length_punct_diff_punct_final: Num voxels rejected = 244.0\n",
      "all_effort_based_metrics_punct_diff_punct_final: Num voxels rejected = 410.0\n",
      "pos_dep_tags_all_effort_based_metrics_diff_all_effort_based_metrics_punct: Num voxels rejected = 327.0\n",
      "aggregated_contrege_pos_dep_tags_all_effort_based_metrics_diff_pos_dep_tags_all_effort_based_metrics: Num voxels rejected = 774.0\n",
      "aggregated_contrege_comp_pos_dep_tags_all_effort_based_metrics_diff_pos_dep_tags_all_effort_based_metrics: Num voxels rejected = 180.0\n",
      "aggregated_beam_incontrege_pos_dep_tags_all_effort_based_metrics_diff_pos_dep_tags_all_effort_based_metrics: Num voxels rejected = 485.0\n",
      "aggregated_bert_PCA_dims_15_contrege_pos_dep_tags_all_effort_based_metrics_diff_aggregated_contrege_pos_dep_tags_all_effort_based_metrics: Num voxels rejected = 2242.0\n",
      "J\n",
      "punct_final: Num voxels rejected = 453.0\n",
      "node_count_punct_diff_punct_final: Num voxels rejected = 393.0\n",
      "syntactic_surprisal_punct_diff_punct_final: Num voxels rejected = 526.0\n",
      "word_frequency_punct_diff_punct_final: Num voxels rejected = 349.0\n",
      "word_length_punct_diff_punct_final: Num voxels rejected = 587.0\n",
      "all_effort_based_metrics_punct_diff_punct_final: Num voxels rejected = 865.0\n",
      "pos_dep_tags_all_effort_based_metrics_diff_all_effort_based_metrics_punct: Num voxels rejected = 1250.0\n",
      "aggregated_contrege_pos_dep_tags_all_effort_based_metrics_diff_pos_dep_tags_all_effort_based_metrics: Num voxels rejected = 215.0\n",
      "aggregated_contrege_comp_pos_dep_tags_all_effort_based_metrics_diff_pos_dep_tags_all_effort_based_metrics: Num voxels rejected = 254.0\n",
      "aggregated_beam_incontrege_pos_dep_tags_all_effort_based_metrics_diff_pos_dep_tags_all_effort_based_metrics: Num voxels rejected = 323.0\n",
      "aggregated_bert_PCA_dims_15_contrege_pos_dep_tags_all_effort_based_metrics_diff_aggregated_contrege_pos_dep_tags_all_effort_based_metrics: Num voxels rejected = 268.0\n",
      "K\n",
      "punct_final: Num voxels rejected = 701.0\n",
      "node_count_punct_diff_punct_final: Num voxels rejected = 41.0\n",
      "syntactic_surprisal_punct_diff_punct_final: Num voxels rejected = 103.0\n",
      "word_frequency_punct_diff_punct_final: Num voxels rejected = 108.0\n",
      "word_length_punct_diff_punct_final: Num voxels rejected = 109.0\n",
      "all_effort_based_metrics_punct_diff_punct_final: Num voxels rejected = 215.0\n",
      "pos_dep_tags_all_effort_based_metrics_diff_all_effort_based_metrics_punct: Num voxels rejected = 193.0\n",
      "aggregated_contrege_pos_dep_tags_all_effort_based_metrics_diff_pos_dep_tags_all_effort_based_metrics: Num voxels rejected = 324.0\n",
      "aggregated_contrege_comp_pos_dep_tags_all_effort_based_metrics_diff_pos_dep_tags_all_effort_based_metrics: Num voxels rejected = 195.0\n",
      "aggregated_beam_incontrege_pos_dep_tags_all_effort_based_metrics_diff_pos_dep_tags_all_effort_based_metrics: Num voxels rejected = 159.0\n",
      "aggregated_bert_PCA_dims_15_contrege_pos_dep_tags_all_effort_based_metrics_diff_aggregated_contrege_pos_dep_tags_all_effort_based_metrics: Num voxels rejected = 197.0\n",
      "L\n",
      "punct_final: Num voxels rejected = 605.0\n",
      "node_count_punct_diff_punct_final: Num voxels rejected = 78.0\n",
      "syntactic_surprisal_punct_diff_punct_final: Num voxels rejected = 154.0\n",
      "word_frequency_punct_diff_punct_final: Num voxels rejected = 118.0\n",
      "word_length_punct_diff_punct_final: Num voxels rejected = 106.0\n",
      "all_effort_based_metrics_punct_diff_punct_final: Num voxels rejected = 197.0\n",
      "pos_dep_tags_all_effort_based_metrics_diff_all_effort_based_metrics_punct: Num voxels rejected = 525.0\n",
      "aggregated_contrege_pos_dep_tags_all_effort_based_metrics_diff_pos_dep_tags_all_effort_based_metrics: Num voxels rejected = 187.0\n",
      "aggregated_contrege_comp_pos_dep_tags_all_effort_based_metrics_diff_pos_dep_tags_all_effort_based_metrics: Num voxels rejected = 151.0\n",
      "aggregated_beam_incontrege_pos_dep_tags_all_effort_based_metrics_diff_pos_dep_tags_all_effort_based_metrics: Num voxels rejected = 282.0\n",
      "aggregated_bert_PCA_dims_15_contrege_pos_dep_tags_all_effort_based_metrics_diff_aggregated_contrege_pos_dep_tags_all_effort_based_metrics: Num voxels rejected = 636.0\n",
      "M\n",
      "punct_final: Num voxels rejected = 1376.0\n",
      "node_count_punct_diff_punct_final: Num voxels rejected = 148.0\n",
      "syntactic_surprisal_punct_diff_punct_final: Num voxels rejected = 301.0\n",
      "word_frequency_punct_diff_punct_final: Num voxels rejected = 220.0\n",
      "word_length_punct_diff_punct_final: Num voxels rejected = 215.0\n",
      "all_effort_based_metrics_punct_diff_punct_final: Num voxels rejected = 366.0\n",
      "pos_dep_tags_all_effort_based_metrics_diff_all_effort_based_metrics_punct: Num voxels rejected = 582.0\n",
      "aggregated_contrege_pos_dep_tags_all_effort_based_metrics_diff_pos_dep_tags_all_effort_based_metrics: Num voxels rejected = 311.0\n",
      "aggregated_contrege_comp_pos_dep_tags_all_effort_based_metrics_diff_pos_dep_tags_all_effort_based_metrics: Num voxels rejected = 233.0\n",
      "aggregated_beam_incontrege_pos_dep_tags_all_effort_based_metrics_diff_pos_dep_tags_all_effort_based_metrics: Num voxels rejected = 284.0\n",
      "aggregated_bert_PCA_dims_15_contrege_pos_dep_tags_all_effort_based_metrics_diff_aggregated_contrege_pos_dep_tags_all_effort_based_metrics: Num voxels rejected = 930.0\n",
      "N\n"
     ]
    },
    {
     "name": "stdout",
     "output_type": "stream",
     "text": [
      "punct_final: Num voxels rejected = 1037.0\n",
      "node_count_punct_diff_punct_final: Num voxels rejected = 101.0\n",
      "syntactic_surprisal_punct_diff_punct_final: Num voxels rejected = 120.0\n",
      "word_frequency_punct_diff_punct_final: Num voxels rejected = 132.0\n",
      "word_length_punct_diff_punct_final: Num voxels rejected = 171.0\n",
      "all_effort_based_metrics_punct_diff_punct_final: Num voxels rejected = 218.0\n",
      "pos_dep_tags_all_effort_based_metrics_diff_all_effort_based_metrics_punct: Num voxels rejected = 193.0\n",
      "aggregated_contrege_pos_dep_tags_all_effort_based_metrics_diff_pos_dep_tags_all_effort_based_metrics: Num voxels rejected = 251.0\n",
      "aggregated_contrege_comp_pos_dep_tags_all_effort_based_metrics_diff_pos_dep_tags_all_effort_based_metrics: Num voxels rejected = 355.0\n",
      "aggregated_beam_incontrege_pos_dep_tags_all_effort_based_metrics_diff_pos_dep_tags_all_effort_based_metrics: Num voxels rejected = 229.0\n",
      "aggregated_bert_PCA_dims_15_contrege_pos_dep_tags_all_effort_based_metrics_diff_aggregated_contrege_pos_dep_tags_all_effort_based_metrics: Num voxels rejected = 165.0\n"
     ]
    }
   ],
   "source": [
    "last_end = 0\n",
    "ind = 0\n",
    "for sub in all_subjects:\n",
    "    print(sub)\n",
    "    punct_corrected_sig = all_corrected_sig[last_end:last_end + all_uncorrected_sig[ind].shape[0]]\n",
    "    np.save(root_save_dir + \"punct_final\" + \"/{}_sig_group_corrected\".format(sub), punct_corrected_sig)\n",
    "    last_end += all_uncorrected_sig[ind].shape[0]\n",
    "    ind += 1\n",
    "    \n",
    "    print(\"punct_final: Num voxels rejected = {}\".format(punct_corrected_sig.sum()))\n",
    "    \n",
    "    for feat in all_feature_pairs:\n",
    "        corrected_sig = all_corrected_sig[last_end:last_end + all_uncorrected_sig[ind].shape[0]]    \n",
    "        np.save(root_save_dir + \"{}_diff_{}\".format(feat[0],feat[1]) + \"/{}_sig_bootstrap_group_corrected\".format(sub), corrected_sig)\n",
    "        last_end += all_uncorrected_sig[ind].shape[0]\n",
    "        ind += 1\n",
    "        \n",
    "        print(\"{}: Num voxels rejected = {}\".format(\"{}_diff_{}\".format(feat[0],feat[1]), corrected_sig.sum()))"
   ]
  }
 ],
 "metadata": {
  "kernelspec": {
   "display_name": "Python 3",
   "language": "python",
   "name": "python3"
  },
  "language_info": {
   "codemirror_mode": {
    "name": "ipython",
    "version": 3
   },
   "file_extension": ".py",
   "mimetype": "text/x-python",
   "name": "python",
   "nbconvert_exporter": "python",
   "pygments_lexer": "ipython3",
   "version": "3.8.5"
  }
 },
 "nbformat": 4,
 "nbformat_minor": 2
}
