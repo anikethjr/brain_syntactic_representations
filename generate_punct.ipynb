{
 "cells": [
  {
   "cell_type": "code",
   "execution_count": 1,
   "metadata": {},
   "outputs": [],
   "source": [
    "import numpy as np\n",
    "import os\n",
    "\n",
    "save_dir = \"features\"\n",
    "if not os.path.exists(save_dir):\n",
    "    os.mkdir(save_dir)"
   ]
  },
  {
   "cell_type": "code",
   "execution_count": 2,
   "metadata": {},
   "outputs": [
    {
     "name": "stdout",
     "output_type": "stream",
     "text": [
      "{'NNP': 0, 'VBD': 1, 'RB': 2, 'VBN': 3, 'PRP': 4, 'MD': 5, 'VB': 6, 'DT': 7, 'NN': 8, 'RBR': 9, 'IN': 10, ',': 11, 'CC': 12, '.': 13, 'JJ': 14, 'NNS': 15, 'NNPS': 16, 'TO': 17, 'RP': 18, 'JJS': 19, 'WDT': 20, 'VBG': 21, ':': 22, '``': 23, \"''\": 24, 'WP': 25, 'VBP': 26, 'VBZ': 27, 'WRB': 28, 'PRP$': 29, 'POS': 30, 'CD': 31, 'EX': 32, 'UH': 33, 'WP$': 34, 'JJR': 35, 'PDT': 36, '-LRB-': 37, '-RRB-': 38, 'FW': 39}\n",
      "[11, 13, 22, 23, 24, 37, 38]\n",
      "7\n",
      "(5176, 7)\n"
     ]
    }
   ],
   "source": [
    "pos_map = np.load(os.path.join(save_dir, \"pos_tags_mappings.npy\"), allow_pickle=True)\n",
    "print(pos_map)\n",
    "pos = np.load(os.path.join(save_dir, \"pos_tags.npy\"), allow_pickle=True)\n",
    "non_punct = [0,1,2,3,4,5,6,7,8,9,10,12,14,15,16,17,18,19,20,21,25,26,27,28,29,30,31,32,33,34,35,36,39]\n",
    "punct = [i for i in list(range(40)) if i not in non_punct]\n",
    "print(punct)\n",
    "print(len(punct))\n",
    "punct_features = pos[:,punct]\n",
    "print(punct_features.shape)"
   ]
  },
  {
   "cell_type": "code",
   "execution_count": 3,
   "metadata": {},
   "outputs": [],
   "source": [
    "pos_tags_sans_punct = pos[:,non_punct]\n",
    "np.save(os.path.join(save_dir, \"pos_tags_sans_punct\"), pos_tags_sans_punct)"
   ]
  },
  {
   "cell_type": "code",
   "execution_count": 4,
   "metadata": {},
   "outputs": [
    {
     "name": "stdout",
     "output_type": "stream",
     "text": [
      "{'nsubj': 0, 'aux': 1, 'neg': 2, 'ROOT': 3, 'ccomp': 4, 'det': 5, 'dobj': 6, 'relcl': 7, 'prep': 8, 'pobj': 9, 'punct': 10, 'cc': 11, 'conj': 12, 'mark': 13, 'advcl': 14, 'compound': 15, 'advmod': 16, 'amod': 17, 'xcomp': 18, 'prt': 19, 'acl': 20, 'nmod': 21, 'appos': 22, 'pcomp': 23, 'intj': 24, 'acomp': 25, 'attr': 26, 'npadvmod': 27, 'poss': 28, 'case': 29, 'nummod': 30, 'nsubjpass': 31, 'auxpass': 32, 'oprd': 33, 'agent': 34, 'dative': 35, 'expl': 36, 'dep': 37, 'parataxis': 38, 'predet': 39, 'preconj': 40, 'quantmod': 41}\n"
     ]
    }
   ],
   "source": [
    "dep = np.load(os.path.join(save_dir, \"dep_tags.npy\"), allow_pickle=True)\n",
    "dep_map = np.load(os.path.join(save_dir, \"dep_tags_mappings.npy\"), allow_pickle=True)\n",
    "print(dep_map)\n",
    "punct_dep = dep[:, 10].reshape((-1,1))"
   ]
  },
  {
   "cell_type": "code",
   "execution_count": 5,
   "metadata": {},
   "outputs": [],
   "source": [
    "dep_tags_sans_punct = dep[:,]"
   ]
  },
  {
   "cell_type": "code",
   "execution_count": 6,
   "metadata": {},
   "outputs": [],
   "source": [
    "punct_final = np.hstack((punct_features, punct_dep))"
   ]
  },
  {
   "cell_type": "code",
   "execution_count": 7,
   "metadata": {},
   "outputs": [
    {
     "name": "stdout",
     "output_type": "stream",
     "text": [
      "[[0. 0. 0. ... 0. 0. 0.]\n",
      " [0. 0. 0. ... 0. 0. 0.]\n",
      " [0. 0. 0. ... 0. 0. 0.]\n",
      " ...\n",
      " [0. 0. 0. ... 0. 0. 0.]\n",
      " [0. 1. 0. ... 0. 0. 1.]\n",
      " [0. 0. 0. ... 0. 0. 0.]]\n",
      "(5176, 8)\n"
     ]
    }
   ],
   "source": [
    "print(punct_final)\n",
    "print(punct_final.shape)"
   ]
  },
  {
   "cell_type": "code",
   "execution_count": 8,
   "metadata": {},
   "outputs": [],
   "source": [
    "np.save(os.path.join(save_dir, \"punct_final\"), punct_final)"
   ]
  },
  {
   "cell_type": "code",
   "execution_count": 9,
   "metadata": {},
   "outputs": [
    {
     "data": {
      "text/plain": [
       "array([[1., 0., 0., ..., 0., 0., 0.],\n",
       "       [0., 1., 0., ..., 0., 0., 0.],\n",
       "       [0., 0., 1., ..., 0., 0., 0.],\n",
       "       ...,\n",
       "       [0., 0., 0., ..., 0., 0., 0.],\n",
       "       [0., 1., 0., ..., 0., 0., 0.],\n",
       "       [0., 0., 0., ..., 0., 0., 0.]])"
      ]
     },
     "execution_count": 9,
     "metadata": {},
     "output_type": "execute_result"
    }
   ],
   "source": [
    "pos_tags_sans_punct"
   ]
  },
  {
   "cell_type": "code",
   "execution_count": null,
   "metadata": {},
   "outputs": [],
   "source": []
  }
 ],
 "metadata": {
  "kernelspec": {
   "display_name": "Python 3",
   "language": "python",
   "name": "python3"
  },
  "language_info": {
   "codemirror_mode": {
    "name": "ipython",
    "version": 3
   },
   "file_extension": ".py",
   "mimetype": "text/x-python",
   "name": "python",
   "nbconvert_exporter": "python",
   "pygments_lexer": "ipython3",
   "version": "3.8.5"
  }
 },
 "nbformat": 4,
 "nbformat_minor": 2
}
