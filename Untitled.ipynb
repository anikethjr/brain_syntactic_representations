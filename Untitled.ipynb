{
 "cells": [
  {
   "cell_type": "code",
   "execution_count": 1,
   "metadata": {},
   "outputs": [],
   "source": [
    "import os"
   ]
  },
  {
   "cell_type": "code",
   "execution_count": 10,
   "metadata": {},
   "outputs": [
    {
     "name": "stdout",
     "output_type": "stream",
     "text": [
      "mv sig_aggregated_bert_PCA_dims_15_contrege_incomp_pos_dep_tags_all_effort_based_metrics_diff_aggregated_contrege_incomp_pos_dep_tags_all_effort_based_metrics_lateral_inflated.png sig_aggregated_bert_PCA_dims_15_contrege_incomp_pos_dep_tags_all_complexity_metrics_diff_aggregated_contrege_incomp_pos_dep_tags_all_complexity_metrics_lateral_inflated.png\n",
      "mv sig_aggregated_contrege_comp_pos_dep_tags_all_effort_based_metrics_diff_pos_dep_tags_all_effort_based_metrics_lateral_inflated.png sig_aggregated_contrege_comp_pos_dep_tags_all_complexity_metrics_diff_pos_dep_tags_all_complexity_metrics_lateral_inflated.png\n",
      "mv sig_aggregated_contrege_incomp_pos_dep_tags_all_effort_based_metrics_diff_pos_dep_tags_all_effort_based_metrics_lateral_inflated.png sig_aggregated_contrege_incomp_pos_dep_tags_all_complexity_metrics_diff_pos_dep_tags_all_complexity_metrics_lateral_inflated.png\n",
      "mv sig_aggregated_incontrege_pos_dep_tags_all_effort_based_metrics_diff_pos_dep_tags_all_effort_based_metrics_lateral_inflated.png sig_aggregated_incontrege_pos_dep_tags_all_complexity_metrics_diff_pos_dep_tags_all_complexity_metrics_lateral_inflated.png\n",
      "mv sig_all_effort_based_metrics_punct_diff_punct_final_lateral_inflated.png sig_all_complexity_metrics_punct_diff_punct_final_lateral_inflated.png\n",
      "mv sig_pos_dep_tags_all_effort_based_metrics_diff_all_effort_based_metrics_punct_lateral_inflated.png sig_pos_dep_tags_all_complexity_metrics_diff_all_complexity_metrics_punct_lateral_inflated.png\n"
     ]
    }
   ],
   "source": [
    "for folder in os.listdir(\"figures/sig_figures/\"):\n",
    "#     print(folder)\n",
    "#     os.system(\"rename {} {}\".format(folder, folder.replace(\"effort_based\", \"complexity\")))\n",
    "    if \"effort_based\" in folder:\n",
    "        print(\"mv {} {}\".format(folder, folder.replace(\"effort_based\", \"complexity\")))    "
   ]
  },
  {
   "cell_type": "code",
   "execution_count": null,
   "metadata": {},
   "outputs": [],
   "source": []
  }
 ],
 "metadata": {
  "kernelspec": {
   "display_name": "Python 3",
   "language": "python",
   "name": "python3"
  },
  "language_info": {
   "codemirror_mode": {
    "name": "ipython",
    "version": 3
   },
   "file_extension": ".py",
   "mimetype": "text/x-python",
   "name": "python",
   "nbconvert_exporter": "python",
   "pygments_lexer": "ipython3",
   "version": "3.8.5"
  }
 },
 "nbformat": 4,
 "nbformat_minor": 4
}
