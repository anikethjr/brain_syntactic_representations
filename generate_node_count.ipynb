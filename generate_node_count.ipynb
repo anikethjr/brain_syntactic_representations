{
 "cells": [
  {
   "cell_type": "code",
   "execution_count": null,
   "metadata": {},
   "outputs": [],
   "source": [
    "import benepar\n",
    "import os\n",
    "from IPython.core.debugger import set_trace\n",
    "import numpy as np\n",
    "\n",
    "parser = benepar.Parser(\"benepar_en2_large\")\n",
    "\n",
    "save_dir = \"features\"\n",
    "if not os.path.exists(save_dir):\n",
    "    os.mkdir(save_dir)"
   ]
  },
  {
   "cell_type": "code",
   "execution_count": null,
   "metadata": {},
   "outputs": [],
   "source": [
    "hp_text = open(\"chapter9.txt\",\"r\").readlines()\n",
    "all_text = []\n",
    "para = \"\"\n",
    "for i in range(len(hp_text)):\n",
    "    hp_text[i] = hp_text[i].strip()\n",
    "    if hp_text[i]!=\"+\":\n",
    "        para += hp_text[i] + \" \"\n",
    "    else:\n",
    "        all_text.append(para)\n",
    "        para = \"\""
   ]
  },
  {
   "cell_type": "code",
   "execution_count": null,
   "metadata": {},
   "outputs": [],
   "source": [
    "all_subtrees = []\n",
    "for i in range(len(hp_text)):\n",
    "    all_subtrees.append([])\n",
    "    \n",
    "all_lexical_prods = []\n",
    "    \n",
    "ptr = 0\n",
    "for para in all_text:\n",
    "    trees = parser.parse_sents(para)\n",
    "    for tree in trees:\n",
    "        productions = tree.productions()\n",
    "        cur_prods = []\n",
    "        len_remaining = len(hp_text[ptr])\n",
    "        for prod in productions:\n",
    "            cur_prods.append(prod)\n",
    "            if prod.is_lexical():\n",
    "                if prod.rhs()[0] == \"``\" or prod.rhs()[0] == \"''\" or prod.rhs()[0] == \"-LRB-\" or prod.rhs()[0] == \"-RRB-\":\n",
    "                        len_remaining -= 1\n",
    "                else:\n",
    "                    len_remaining -= len(prod.rhs()[0])\n",
    "                all_lexical_prods.append(prod)\n",
    "            if len_remaining == 0:\n",
    "                all_subtrees[ptr] = cur_prods.copy()\n",
    "                ptr += 1\n",
    "                if hp_text[ptr] == \"+\":\n",
    "                    ptr += 1\n",
    "                if ptr<len(hp_text) and hp_text[ptr] == \"+\":\n",
    "                    ptr += 1\n",
    "                if ptr<len(hp_text):\n",
    "                    len_remaining = len(hp_text[ptr])"
   ]
  },
  {
   "cell_type": "code",
   "execution_count": null,
   "metadata": {},
   "outputs": [],
   "source": [
    "import pickle\n",
    "with open(\"all_subtrees_nodecnt.pkl\",\"wb\") as f:\n",
    "    pickle.dump(all_subtrees,f)"
   ]
  },
  {
   "cell_type": "code",
   "execution_count": null,
   "metadata": {},
   "outputs": [],
   "source": [
    "with open(\"all_subtrees_nodecnt.pkl\",\"rb\") as f:\n",
    "    bck = pickle.load(f)\n",
    "all_end_subtrees = []\n",
    "for i in range(len(hp_text)):\n",
    "    all_end_subtrees.append([])\n",
    "\n",
    "node_cnts = []\n",
    "for i in range(len(hp_text)):\n",
    "    node_cnts.append(0)\n",
    "\n",
    "for i in range(len(hp_text)):\n",
    "    j = len(all_subtrees[i]) - 1\n",
    "    prev = []\n",
    "    while(j>=0):\n",
    "        cur = bck[i][j]\n",
    "        rhs = cur.rhs()\n",
    "        if cur.is_lexical() and len(cur._rhs)>0:\n",
    "            all_end_subtrees[i] = [all_subtrees[i][j]] + all_end_subtrees[i]\n",
    "            cur._rhs = ()\n",
    "            j -= 1\n",
    "            prev.append(cur.lhs())\n",
    "            node_cnts[i] += 1\n",
    "        else:\n",
    "            checkrem = 0\n",
    "            rem = 0\n",
    "            for sym in rhs:\n",
    "                if sym in prev:\n",
    "                    rem += 1\n",
    "                    prev.remove(sym)\n",
    "                    checkrem = 1\n",
    "                if len(prev) == 0:\n",
    "                    break\n",
    "            bck[i][j]._rhs = bck[i][j]._rhs[rem:]\n",
    "            if checkrem == 1 and len(bck[i][j]._rhs) == 0:\n",
    "                node_cnts[i] += 1\n",
    "                all_end_subtrees[i] = all_subtrees[i][j:]\n",
    "                prev.append(all_subtrees[i][j].lhs())\n",
    "            j -= 1"
   ]
  },
  {
   "cell_type": "code",
   "execution_count": null,
   "metadata": {},
   "outputs": [],
   "source": [
    "for i in range(len(all_end_subtrees)):\n",
    "    print(hp_text[i])\n",
    "    print(node_cnts[i])\n",
    "    print(all_subtrees[i])\n",
    "    print(all_end_subtrees[i])"
   ]
  },
  {
   "cell_type": "code",
   "execution_count": null,
   "metadata": {},
   "outputs": [],
   "source": [
    "np.save(os.path.join(save_dir,\"node_count\"),node_cnts)"
   ]
  }
 ],
 "metadata": {
  "kernelspec": {
   "display_name": "Python 3",
   "language": "python",
   "name": "python3"
  },
  "language_info": {
   "codemirror_mode": {
    "name": "ipython",
    "version": 3
   },
   "file_extension": ".py",
   "mimetype": "text/x-python",
   "name": "python",
   "nbconvert_exporter": "python",
   "pygments_lexer": "ipython3",
   "version": "3.8.5"
  }
 },
 "nbformat": 4,
 "nbformat_minor": 2
}
