{
 "cells": [
  {
   "cell_type": "code",
   "execution_count": null,
   "metadata": {},
   "outputs": [],
   "source": [
    "import numpy as np\n",
    "import os\n",
    "from IPython.core.debugger import set_trace"
   ]
  },
  {
   "cell_type": "code",
   "execution_count": null,
   "metadata": {},
   "outputs": [],
   "source": [
    "all_features = [\"contrege_comp\", \"contrege_incomp\", \"incontrege\", \"bert_PCA_dims_15_contrege_incomp\"]\n",
    "predictions_dir = \"predictions\"\n",
    "all_subjects = ['F','G','H','I','J','K','L','M','N']\n",
    "num_sets = 5"
   ]
  },
  {
   "cell_type": "code",
   "execution_count": null,
   "metadata": {},
   "outputs": [],
   "source": [
    "metrics = [\"y_pred_0\", \"y_pred_1\", \"y_pred_2\", \"y_pred_3\", \"r2s\", \"y_test_0\", \"y_test_1\", \"y_test_2\", \"y_test_3\"]\n",
    "op = \"avg\"\n",
    "add_suffix = \"_pos_dep_tags_all_effort_based_metrics\"\n",
    "\n",
    "for metric in metrics:\n",
    "    for feature in all_features:\n",
    "        output_dir = \"\"\n",
    "        output_dir = \"{}/aggregated_{}\".format(predictions_dir, feature) + add_suffix\n",
    "        if not os.path.exists(output_dir):\n",
    "            os.mkdir(output_dir)\n",
    "        for sub in all_subjects:\n",
    "            agg = None\n",
    "            if os.path.exists(\"{}/{}_{}.npy\".format(output_dir, sub, metric)):\n",
    "                continue\n",
    "            if \"test\" in metric:\n",
    "                print(\"Test data - {}. Copying it as is from the first set.\".format(metric))\n",
    "                data = np.load(\"{}/{}_set_{}{}/{}_{}.npy\".format(predictions_dir, feature, 0, add_suffix, sub, metric))\n",
    "                np.save(\"{}/{}_{}.npy\".format(output_dir, sub, metric), data)\n",
    "                continue\n",
    "            for i in range(num_sets):\n",
    "                data = np.load(\"{}/{}_set_{}{}/{}_{}.npy\".format(predictions_dir, feature, i, add_suffix, sub, metric))\n",
    "                if agg is None:\n",
    "                    if op == \"avg\":\n",
    "                        agg = data/num_sets\n",
    "                    else:\n",
    "                        agg = data\n",
    "                else:\n",
    "                    if op == \"avg\":\n",
    "                        agg += data/num_sets\n",
    "                    elif op == \"min\":\n",
    "                        agg = np.minimum(agg, data)\n",
    "                    elif op == \"max\":\n",
    "                        agg = np.maximum(agg, data)\n",
    "            np.save(\"{}/{}_{}.npy\".format(output_dir, sub, metric), agg)"
   ]
  },
  {
   "cell_type": "code",
   "execution_count": null,
   "metadata": {},
   "outputs": [],
   "source": []
  }
 ],
 "metadata": {
  "kernelspec": {
   "display_name": "Python 3",
   "language": "python",
   "name": "python3"
  },
  "language_info": {
   "codemirror_mode": {
    "name": "ipython",
    "version": 3
   },
   "file_extension": ".py",
   "mimetype": "text/x-python",
   "name": "python",
   "nbconvert_exporter": "python",
   "pygments_lexer": "ipython3",
   "version": "3.8.5"
  }
 },
 "nbformat": 4,
 "nbformat_minor": 2
}
