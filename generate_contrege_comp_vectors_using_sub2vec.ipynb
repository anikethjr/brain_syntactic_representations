{
 "cells": [
  {
   "cell_type": "code",
   "execution_count": null,
   "metadata": {},
   "outputs": [],
   "source": [
    "import os\n",
    "import numpy as np"
   ]
  },
  {
   "cell_type": "code",
   "execution_count": null,
   "metadata": {},
   "outputs": [],
   "source": [
    "sub2vec_dir = \"sub2vec\"\n",
    "\n",
    "save_dir = \"features\"\n",
    "if not os.path.exists(save_dir):\n",
    "    os.mkdir(save_dir)\n",
    "\n",
    "input_trees = \"contrege_comp_subtrees\"\n",
    "num_iters = 5"
   ]
  },
  {
   "cell_type": "code",
   "execution_count": null,
   "metadata": {},
   "outputs": [],
   "source": [
    "for ite in range(num_iters):\n",
    "    os.system(\"python {}/src/main.py --input {} --property n --output {}/contrege_comp_set_{} --d 15 --windowSize 5 --model dbon\"\\\n",
    "              .format(sub2vec_dir, input_trees, save_dir, ite))\n",
    "    print(\"python {}/src/main.py --input {} --property n --output {}/contrege_comp_set_{} --d 15 --windowSize 5 --model dbon\"\\\n",
    "              .format(sub2vec_dir, input_trees, save_dir, ite))\n",
    "    graph_emb_file = \"{}/contrege_comp_set_{}\".format(save_dir, ite)\n",
    "    graph_emb_file = open(graph_emb_file,\"r\").readlines()\n",
    "    graph_emb_file = graph_emb_file[1:]\n",
    "    emb_len = 0\n",
    "    final_embeddings = []\n",
    "    for i in range(5176):\n",
    "        final_embeddings.append([])\n",
    "\n",
    "    for line in graph_emb_file:\n",
    "        line = line.strip().split(\"\\t\")\n",
    "        if not line[0].startswith(\"subGraph\"):\n",
    "            continue\n",
    "        wordnum = int(line[0][8:])\n",
    "        emb_len = len(line[1:])\n",
    "        for i in line[1:]:\n",
    "            final_embeddings[wordnum].append(float(i))\n",
    "\n",
    "    for i in range(len(final_embeddings)):\n",
    "        if len(final_embeddings[i]) == 0:\n",
    "            final_embeddings[i] = [0.0]*emb_len\n",
    "\n",
    "    print(len(final_embeddings))\n",
    "    print(len(final_embeddings[0]))\n",
    "\n",
    "    np.save(\"{}/contrege_comp_set_{}.npy\".format(save_dir, ite),final_embeddings)"
   ]
  },
  {
   "cell_type": "code",
   "execution_count": null,
   "metadata": {},
   "outputs": [],
   "source": []
  }
 ],
 "metadata": {
  "kernelspec": {
   "display_name": "Python 3",
   "language": "python",
   "name": "python3"
  },
  "language_info": {
   "codemirror_mode": {
    "name": "ipython",
    "version": 3
   },
   "file_extension": ".py",
   "mimetype": "text/x-python",
   "name": "python",
   "nbconvert_exporter": "python",
   "pygments_lexer": "ipython3",
   "version": "3.8.5"
  }
 },
 "nbformat": 4,
 "nbformat_minor": 2
}
