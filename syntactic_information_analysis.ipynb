{
 "cells": [
  {
   "cell_type": "code",
   "execution_count": 1,
   "metadata": {},
   "outputs": [],
   "source": [
    "import numpy as np\n",
    "from sklearn.linear_model import LogisticRegression\n",
    "from sklearn.ensemble import RandomForestClassifier\n",
    "from sklearn.neural_network import MLPClassifier\n",
    "from sklearn.model_selection import StratifiedKFold\n",
    "from sklearn.model_selection import cross_val_score\n",
    "import pandas as pd\n",
    "from collections import Counter\n",
    "from scipy.stats import wilcoxon\n",
    "from IPython.core.debugger import set_trace\n",
    "\n",
    "np.random.seed(97)"
   ]
  },
  {
   "cell_type": "code",
   "execution_count": 2,
   "metadata": {},
   "outputs": [
    {
     "name": "stdout",
     "output_type": "stream",
     "text": [
      "contrege_comp\n",
      "5\n",
      "(5176, 15)\n"
     ]
    },
    {
     "name": "stderr",
     "output_type": "stream",
     "text": [
      "C:\\ProgramData\\Anaconda3\\lib\\site-packages\\sklearn\\model_selection\\_split.py:667: UserWarning: The least populated class in y has only 3 members, which is less than n_splits=4.\n",
      "  % (min_groups, self.n_splits)), UserWarning)\n",
      "C:\\ProgramData\\Anaconda3\\lib\\site-packages\\sklearn\\model_selection\\_split.py:667: UserWarning: The least populated class in y has only 3 members, which is less than n_splits=4.\n",
      "  % (min_groups, self.n_splits)), UserWarning)\n",
      "C:\\ProgramData\\Anaconda3\\lib\\site-packages\\sklearn\\model_selection\\_split.py:667: UserWarning: The least populated class in y has only 3 members, which is less than n_splits=4.\n",
      "  % (min_groups, self.n_splits)), UserWarning)\n",
      "C:\\ProgramData\\Anaconda3\\lib\\site-packages\\sklearn\\model_selection\\_split.py:667: UserWarning: The least populated class in y has only 3 members, which is less than n_splits=4.\n",
      "  % (min_groups, self.n_splits)), UserWarning)\n",
      "C:\\ProgramData\\Anaconda3\\lib\\site-packages\\sklearn\\model_selection\\_split.py:667: UserWarning: The least populated class in y has only 3 members, which is less than n_splits=4.\n",
      "  % (min_groups, self.n_splits)), UserWarning)\n",
      "C:\\ProgramData\\Anaconda3\\lib\\site-packages\\sklearn\\model_selection\\_split.py:667: UserWarning: The least populated class in y has only 2 members, which is less than n_splits=4.\n",
      "  % (min_groups, self.n_splits)), UserWarning)\n",
      "C:\\ProgramData\\Anaconda3\\lib\\site-packages\\sklearn\\model_selection\\_split.py:667: UserWarning: The least populated class in y has only 2 members, which is less than n_splits=4.\n",
      "  % (min_groups, self.n_splits)), UserWarning)\n",
      "C:\\ProgramData\\Anaconda3\\lib\\site-packages\\sklearn\\model_selection\\_split.py:667: UserWarning: The least populated class in y has only 2 members, which is less than n_splits=4.\n",
      "  % (min_groups, self.n_splits)), UserWarning)\n",
      "C:\\ProgramData\\Anaconda3\\lib\\site-packages\\sklearn\\model_selection\\_split.py:667: UserWarning: The least populated class in y has only 2 members, which is less than n_splits=4.\n",
      "  % (min_groups, self.n_splits)), UserWarning)\n",
      "C:\\ProgramData\\Anaconda3\\lib\\site-packages\\sklearn\\model_selection\\_split.py:667: UserWarning: The least populated class in y has only 2 members, which is less than n_splits=4.\n",
      "  % (min_groups, self.n_splits)), UserWarning)\n",
      "C:\\ProgramData\\Anaconda3\\lib\\site-packages\\sklearn\\model_selection\\_split.py:667: UserWarning: The least populated class in y has only 2 members, which is less than n_splits=4.\n",
      "  % (min_groups, self.n_splits)), UserWarning)\n",
      "C:\\ProgramData\\Anaconda3\\lib\\site-packages\\sklearn\\model_selection\\_split.py:667: UserWarning: The least populated class in y has only 2 members, which is less than n_splits=4.\n",
      "  % (min_groups, self.n_splits)), UserWarning)\n",
      "C:\\ProgramData\\Anaconda3\\lib\\site-packages\\sklearn\\model_selection\\_split.py:667: UserWarning: The least populated class in y has only 2 members, which is less than n_splits=4.\n",
      "  % (min_groups, self.n_splits)), UserWarning)\n",
      "C:\\ProgramData\\Anaconda3\\lib\\site-packages\\sklearn\\model_selection\\_split.py:667: UserWarning: The least populated class in y has only 2 members, which is less than n_splits=4.\n",
      "  % (min_groups, self.n_splits)), UserWarning)\n",
      "C:\\ProgramData\\Anaconda3\\lib\\site-packages\\sklearn\\model_selection\\_split.py:667: UserWarning: The least populated class in y has only 2 members, which is less than n_splits=4.\n",
      "  % (min_groups, self.n_splits)), UserWarning)\n"
     ]
    },
    {
     "name": "stdout",
     "output_type": "stream",
     "text": [
      "{'Feature': 'contrege_comp', 'level_2_ancestors': 0.6656877897990727, 'level_3_ancestors': 0.5113601236476043, 'level_4_ancestors': 0.596870170015456, 'level_5_ancestors': 0.6792117465224111, 'level_6_ancestors': 0.7727202472952086, 'level_7_ancestors': 0.8208268933539411, 'level_8_ancestors': 0.8626738794435859, 'level_9_ancestors': 0.8968315301391037}\n",
      "contrege_incomp\n",
      "5\n",
      "(5176, 15)\n"
     ]
    },
    {
     "name": "stderr",
     "output_type": "stream",
     "text": [
      "C:\\ProgramData\\Anaconda3\\lib\\site-packages\\sklearn\\model_selection\\_split.py:667: UserWarning: The least populated class in y has only 3 members, which is less than n_splits=4.\n",
      "  % (min_groups, self.n_splits)), UserWarning)\n",
      "C:\\ProgramData\\Anaconda3\\lib\\site-packages\\sklearn\\model_selection\\_split.py:667: UserWarning: The least populated class in y has only 3 members, which is less than n_splits=4.\n",
      "  % (min_groups, self.n_splits)), UserWarning)\n",
      "C:\\ProgramData\\Anaconda3\\lib\\site-packages\\sklearn\\model_selection\\_split.py:667: UserWarning: The least populated class in y has only 3 members, which is less than n_splits=4.\n",
      "  % (min_groups, self.n_splits)), UserWarning)\n",
      "C:\\ProgramData\\Anaconda3\\lib\\site-packages\\sklearn\\model_selection\\_split.py:667: UserWarning: The least populated class in y has only 3 members, which is less than n_splits=4.\n",
      "  % (min_groups, self.n_splits)), UserWarning)\n",
      "C:\\ProgramData\\Anaconda3\\lib\\site-packages\\sklearn\\model_selection\\_split.py:667: UserWarning: The least populated class in y has only 3 members, which is less than n_splits=4.\n",
      "  % (min_groups, self.n_splits)), UserWarning)\n",
      "C:\\ProgramData\\Anaconda3\\lib\\site-packages\\sklearn\\model_selection\\_split.py:667: UserWarning: The least populated class in y has only 2 members, which is less than n_splits=4.\n",
      "  % (min_groups, self.n_splits)), UserWarning)\n",
      "C:\\ProgramData\\Anaconda3\\lib\\site-packages\\sklearn\\model_selection\\_split.py:667: UserWarning: The least populated class in y has only 2 members, which is less than n_splits=4.\n",
      "  % (min_groups, self.n_splits)), UserWarning)\n",
      "C:\\ProgramData\\Anaconda3\\lib\\site-packages\\sklearn\\model_selection\\_split.py:667: UserWarning: The least populated class in y has only 2 members, which is less than n_splits=4.\n",
      "  % (min_groups, self.n_splits)), UserWarning)\n",
      "C:\\ProgramData\\Anaconda3\\lib\\site-packages\\sklearn\\model_selection\\_split.py:667: UserWarning: The least populated class in y has only 2 members, which is less than n_splits=4.\n",
      "  % (min_groups, self.n_splits)), UserWarning)\n",
      "C:\\ProgramData\\Anaconda3\\lib\\site-packages\\sklearn\\model_selection\\_split.py:667: UserWarning: The least populated class in y has only 2 members, which is less than n_splits=4.\n",
      "  % (min_groups, self.n_splits)), UserWarning)\n",
      "C:\\ProgramData\\Anaconda3\\lib\\site-packages\\sklearn\\model_selection\\_split.py:667: UserWarning: The least populated class in y has only 2 members, which is less than n_splits=4.\n",
      "  % (min_groups, self.n_splits)), UserWarning)\n",
      "C:\\ProgramData\\Anaconda3\\lib\\site-packages\\sklearn\\model_selection\\_split.py:667: UserWarning: The least populated class in y has only 2 members, which is less than n_splits=4.\n",
      "  % (min_groups, self.n_splits)), UserWarning)\n",
      "C:\\ProgramData\\Anaconda3\\lib\\site-packages\\sklearn\\model_selection\\_split.py:667: UserWarning: The least populated class in y has only 2 members, which is less than n_splits=4.\n",
      "  % (min_groups, self.n_splits)), UserWarning)\n",
      "C:\\ProgramData\\Anaconda3\\lib\\site-packages\\sklearn\\model_selection\\_split.py:667: UserWarning: The least populated class in y has only 2 members, which is less than n_splits=4.\n",
      "  % (min_groups, self.n_splits)), UserWarning)\n",
      "C:\\ProgramData\\Anaconda3\\lib\\site-packages\\sklearn\\model_selection\\_split.py:667: UserWarning: The least populated class in y has only 2 members, which is less than n_splits=4.\n",
      "  % (min_groups, self.n_splits)), UserWarning)\n"
     ]
    },
    {
     "name": "stdout",
     "output_type": "stream",
     "text": [
      "{'Feature': 'contrege_incomp', 'level_2_ancestors': 0.5282843894899537, 'level_3_ancestors': 0.45819165378670784, 'level_4_ancestors': 0.5789799072642967, 'level_5_ancestors': 0.6744976816074189, 'level_6_ancestors': 0.770788253477589, 'level_7_ancestors': 0.8246908809891809, 'level_8_ancestors': 0.8658809891808346, 'level_9_ancestors': 0.9037480680061825}\n",
      "incontrege\n",
      "5\n",
      "(5176, 15)\n"
     ]
    },
    {
     "name": "stderr",
     "output_type": "stream",
     "text": [
      "C:\\ProgramData\\Anaconda3\\lib\\site-packages\\sklearn\\model_selection\\_split.py:667: UserWarning: The least populated class in y has only 3 members, which is less than n_splits=4.\n",
      "  % (min_groups, self.n_splits)), UserWarning)\n",
      "C:\\ProgramData\\Anaconda3\\lib\\site-packages\\sklearn\\model_selection\\_split.py:667: UserWarning: The least populated class in y has only 3 members, which is less than n_splits=4.\n",
      "  % (min_groups, self.n_splits)), UserWarning)\n",
      "C:\\ProgramData\\Anaconda3\\lib\\site-packages\\sklearn\\model_selection\\_split.py:667: UserWarning: The least populated class in y has only 3 members, which is less than n_splits=4.\n",
      "  % (min_groups, self.n_splits)), UserWarning)\n",
      "C:\\ProgramData\\Anaconda3\\lib\\site-packages\\sklearn\\model_selection\\_split.py:667: UserWarning: The least populated class in y has only 3 members, which is less than n_splits=4.\n",
      "  % (min_groups, self.n_splits)), UserWarning)\n",
      "C:\\ProgramData\\Anaconda3\\lib\\site-packages\\sklearn\\model_selection\\_split.py:667: UserWarning: The least populated class in y has only 3 members, which is less than n_splits=4.\n",
      "  % (min_groups, self.n_splits)), UserWarning)\n",
      "C:\\ProgramData\\Anaconda3\\lib\\site-packages\\sklearn\\model_selection\\_split.py:667: UserWarning: The least populated class in y has only 2 members, which is less than n_splits=4.\n",
      "  % (min_groups, self.n_splits)), UserWarning)\n",
      "C:\\ProgramData\\Anaconda3\\lib\\site-packages\\sklearn\\model_selection\\_split.py:667: UserWarning: The least populated class in y has only 2 members, which is less than n_splits=4.\n",
      "  % (min_groups, self.n_splits)), UserWarning)\n",
      "C:\\ProgramData\\Anaconda3\\lib\\site-packages\\sklearn\\model_selection\\_split.py:667: UserWarning: The least populated class in y has only 2 members, which is less than n_splits=4.\n",
      "  % (min_groups, self.n_splits)), UserWarning)\n",
      "C:\\ProgramData\\Anaconda3\\lib\\site-packages\\sklearn\\model_selection\\_split.py:667: UserWarning: The least populated class in y has only 2 members, which is less than n_splits=4.\n",
      "  % (min_groups, self.n_splits)), UserWarning)\n",
      "C:\\ProgramData\\Anaconda3\\lib\\site-packages\\sklearn\\model_selection\\_split.py:667: UserWarning: The least populated class in y has only 2 members, which is less than n_splits=4.\n",
      "  % (min_groups, self.n_splits)), UserWarning)\n",
      "C:\\ProgramData\\Anaconda3\\lib\\site-packages\\sklearn\\model_selection\\_split.py:667: UserWarning: The least populated class in y has only 2 members, which is less than n_splits=4.\n",
      "  % (min_groups, self.n_splits)), UserWarning)\n",
      "C:\\ProgramData\\Anaconda3\\lib\\site-packages\\sklearn\\model_selection\\_split.py:667: UserWarning: The least populated class in y has only 2 members, which is less than n_splits=4.\n",
      "  % (min_groups, self.n_splits)), UserWarning)\n",
      "C:\\ProgramData\\Anaconda3\\lib\\site-packages\\sklearn\\model_selection\\_split.py:667: UserWarning: The least populated class in y has only 2 members, which is less than n_splits=4.\n",
      "  % (min_groups, self.n_splits)), UserWarning)\n",
      "C:\\ProgramData\\Anaconda3\\lib\\site-packages\\sklearn\\model_selection\\_split.py:667: UserWarning: The least populated class in y has only 2 members, which is less than n_splits=4.\n",
      "  % (min_groups, self.n_splits)), UserWarning)\n",
      "C:\\ProgramData\\Anaconda3\\lib\\site-packages\\sklearn\\model_selection\\_split.py:667: UserWarning: The least populated class in y has only 2 members, which is less than n_splits=4.\n",
      "  % (min_groups, self.n_splits)), UserWarning)\n"
     ]
    },
    {
     "name": "stdout",
     "output_type": "stream",
     "text": [
      "{'Feature': 'incontrege', 'level_2_ancestors': 0.5265842349304484, 'level_3_ancestors': 0.45568006182380216, 'level_4_ancestors': 0.5788639876352396, 'level_5_ancestors': 0.667967542503864, 'level_6_ancestors': 0.7613987635239567, 'level_7_ancestors': 0.8113601236476043, 'level_8_ancestors': 0.8515455950540959, 'level_9_ancestors': 0.8904559505409584}\n"
     ]
    }
   ],
   "source": [
    "# contrege results\n",
    "all_sets = [\"contrege_comp\", \"contrege_incomp\", \"incontrege\"]\n",
    "num_sets = 5\n",
    "sets_dir = \"features\"\n",
    "y_dir = \"ancestor_information_analysis\"\n",
    "clf = LogisticRegression(random_state=0, multi_class=\"multinomial\", max_iter=5000)\n",
    "\n",
    "y_labels = []\n",
    "all_y = []\n",
    "for level in range(2,10):\n",
    "    y = np.load(\"{}/level_{}_ancestors.npy\".format(y_dir, level))\n",
    "    y_mod = np.argmax(y, axis = 1)\n",
    "    all_y.append(y_mod)   \n",
    "    y_labels.append(\"level_{}_ancestors\".format(level))\n",
    "    \n",
    "results = []\n",
    "for se in range(len(all_sets)):\n",
    "    set_name = all_sets[se]\n",
    "    print(set_name)\n",
    "    all_x = []\n",
    "    for i in range(num_sets):\n",
    "        x = np.load(\"{}/{}_set_{}.npy\".format(sets_dir, set_name, i))\n",
    "        all_x.append(x)\n",
    "        \n",
    "    print(len(all_x))\n",
    "    print(all_x[0].shape)\n",
    "    result = {\"Feature\": set_name}\n",
    "    \n",
    "    for i in range(len(all_y)):\n",
    "        agg = 0.0\n",
    "        all_scores = [0.0]*10\n",
    "        all_chance = []\n",
    "        for x_it in all_x:\n",
    "            skf = StratifiedKFold(n_splits=10)\n",
    "            scores = cross_val_score(clf, x_it, all_y[i], cv=skf, scoring=\"accuracy\")\n",
    "            agg += scores.mean()\n",
    "            for j in range(scores.shape[0]):\n",
    "                all_scores[j] += scores[j]/len(all_x)\n",
    "            \n",
    "        for train_index, test_index in skf.split(all_x[0], all_y[i]):\n",
    "            y_train, y_test = all_y[i][train_index], all_y[i][test_index]\n",
    "            c = Counter(list(y_train))\n",
    "            majority_label, count = c.most_common()[0]\n",
    "            all_chance.append(float(count) / y_train.shape[0])\n",
    "        \n",
    "        print(all_scores)\n",
    "        agg /= len(all_x)\n",
    "        result[y_labels[i]] = agg\n",
    "        result[\"p_val_\" + y_labels[i]] = wilcoxon(all_scores, all_chance, zero_method=\"zsplit\").pvalue\n",
    "    print(result)\n",
    "    results.append(result)"
   ]
  },
  {
   "cell_type": "code",
   "execution_count": 3,
   "metadata": {},
   "outputs": [
    {
     "ename": "FileNotFoundError",
     "evalue": "[Errno 2] No such file or directory: 'features/pos_dep_tags.npy'",
     "output_type": "error",
     "traceback": [
      "\u001b[1;31m---------------------------------------------------------------------------\u001b[0m",
      "\u001b[1;31mFileNotFoundError\u001b[0m                         Traceback (most recent call last)",
      "\u001b[1;32m<ipython-input-3-f836193c37cd>\u001b[0m in \u001b[0;36m<module>\u001b[1;34m\u001b[0m\n\u001b[0;32m     15\u001b[0m \u001b[1;32mfor\u001b[0m \u001b[0mfe\u001b[0m \u001b[1;32min\u001b[0m \u001b[0mrange\u001b[0m\u001b[1;33m(\u001b[0m\u001b[0mlen\u001b[0m\u001b[1;33m(\u001b[0m\u001b[0mall_features\u001b[0m\u001b[1;33m)\u001b[0m\u001b[1;33m)\u001b[0m\u001b[1;33m:\u001b[0m\u001b[1;33m\u001b[0m\u001b[1;33m\u001b[0m\u001b[0m\n\u001b[0;32m     16\u001b[0m     \u001b[0mfeat_name\u001b[0m \u001b[1;33m=\u001b[0m \u001b[0mall_features\u001b[0m\u001b[1;33m[\u001b[0m\u001b[0mfe\u001b[0m\u001b[1;33m]\u001b[0m\u001b[1;33m\u001b[0m\u001b[1;33m\u001b[0m\u001b[0m\n\u001b[1;32m---> 17\u001b[1;33m     \u001b[0mx\u001b[0m \u001b[1;33m=\u001b[0m \u001b[0mnp\u001b[0m\u001b[1;33m.\u001b[0m\u001b[0mload\u001b[0m\u001b[1;33m(\u001b[0m\u001b[1;34m\"{}/{}.npy\"\u001b[0m\u001b[1;33m.\u001b[0m\u001b[0mformat\u001b[0m\u001b[1;33m(\u001b[0m\u001b[0mfeatures_dir\u001b[0m\u001b[1;33m,\u001b[0m \u001b[0mfeat_name\u001b[0m\u001b[1;33m)\u001b[0m\u001b[1;33m)\u001b[0m\u001b[1;33m\u001b[0m\u001b[1;33m\u001b[0m\u001b[0m\n\u001b[0m\u001b[0;32m     18\u001b[0m     \u001b[0mx\u001b[0m \u001b[1;33m=\u001b[0m \u001b[0mx\u001b[0m\u001b[1;33m.\u001b[0m\u001b[0mreshape\u001b[0m\u001b[1;33m(\u001b[0m\u001b[1;33m(\u001b[0m\u001b[0mx\u001b[0m\u001b[1;33m.\u001b[0m\u001b[0mshape\u001b[0m\u001b[1;33m[\u001b[0m\u001b[1;36m0\u001b[0m\u001b[1;33m]\u001b[0m\u001b[1;33m,\u001b[0m \u001b[1;33m-\u001b[0m\u001b[1;36m1\u001b[0m\u001b[1;33m)\u001b[0m\u001b[1;33m)\u001b[0m\u001b[1;33m\u001b[0m\u001b[1;33m\u001b[0m\u001b[0m\n\u001b[0;32m     19\u001b[0m \u001b[1;33m\u001b[0m\u001b[0m\n",
      "\u001b[1;32mC:\\ProgramData\\Anaconda3\\lib\\site-packages\\numpy\\lib\\npyio.py\u001b[0m in \u001b[0;36mload\u001b[1;34m(file, mmap_mode, allow_pickle, fix_imports, encoding)\u001b[0m\n\u001b[0;32m    426\u001b[0m         \u001b[0mown_fid\u001b[0m \u001b[1;33m=\u001b[0m \u001b[1;32mFalse\u001b[0m\u001b[1;33m\u001b[0m\u001b[1;33m\u001b[0m\u001b[0m\n\u001b[0;32m    427\u001b[0m     \u001b[1;32melse\u001b[0m\u001b[1;33m:\u001b[0m\u001b[1;33m\u001b[0m\u001b[1;33m\u001b[0m\u001b[0m\n\u001b[1;32m--> 428\u001b[1;33m         \u001b[0mfid\u001b[0m \u001b[1;33m=\u001b[0m \u001b[0mopen\u001b[0m\u001b[1;33m(\u001b[0m\u001b[0mos_fspath\u001b[0m\u001b[1;33m(\u001b[0m\u001b[0mfile\u001b[0m\u001b[1;33m)\u001b[0m\u001b[1;33m,\u001b[0m \u001b[1;34m\"rb\"\u001b[0m\u001b[1;33m)\u001b[0m\u001b[1;33m\u001b[0m\u001b[1;33m\u001b[0m\u001b[0m\n\u001b[0m\u001b[0;32m    429\u001b[0m         \u001b[0mown_fid\u001b[0m \u001b[1;33m=\u001b[0m \u001b[1;32mTrue\u001b[0m\u001b[1;33m\u001b[0m\u001b[1;33m\u001b[0m\u001b[0m\n\u001b[0;32m    430\u001b[0m \u001b[1;33m\u001b[0m\u001b[0m\n",
      "\u001b[1;31mFileNotFoundError\u001b[0m: [Errno 2] No such file or directory: 'features/pos_dep_tags.npy'"
     ]
    }
   ],
   "source": [
    "# other features\n",
    "all_features = [\"pos_dep_tags\", \"node_count\", \"syntactic_surprisal\", \"word_frequency\", \"word_length\", \"all_effort_based_metrics\", \"incremental_bert_embeddings_layer12_PCA_dims_15\"]\n",
    "features_dir = \"features\"\n",
    "y_dir = \"ancestor_information_analysis\"\n",
    "clf = LogisticRegression(random_state=0, multi_class=\"multinomial\", max_iter=5000)\n",
    "\n",
    "y_labels = []\n",
    "all_y = []\n",
    "for level in range(2,10):\n",
    "    y = np.load(\"{}/level_{}_ancestors.npy\".format(y_dir, level))\n",
    "    y_mod = np.argmax(y, axis = 1)\n",
    "    all_y.append(y_mod)   \n",
    "    y_labels.append(\"level_{}_ancestors\".format(level))\n",
    "    \n",
    "for fe in range(len(all_features)):\n",
    "    feat_name = all_features[fe]\n",
    "    print(feat_name)\n",
    "    x = np.load(\"{}/{}.npy\".format(features_dir, feat_name))\n",
    "    x = x.reshape((x.shape[0], -1))\n",
    "    \n",
    "    result = {\"Feature\": feat_name}\n",
    "    for i in range(len(all_y)):\n",
    "        all_scores = []\n",
    "        all_chance = []\n",
    "        skf = StratifiedKFold(n_splits=10)\n",
    "        scores = cross_val_score(clf, x, all_y[i], cv=skf, scoring=\"accuracy\")\n",
    "        agg = scores.mean()\n",
    "        all_scores = list(scores)\n",
    "\n",
    "        for train_index, test_index in skf.split(x, all_y[i]):\n",
    "            y_train, y_test = all_y[i][train_index], all_y[i][test_index]\n",
    "            c = Counter(list(y_train))\n",
    "            majority_label, count = c.most_common()[0]\n",
    "            all_chance.append(float(count) / y_train.shape[0])\n",
    "\n",
    "        print(all_scores)\n",
    "        result[y_labels[i]] = agg\n",
    "        result[\"p_val_\" + y_labels[i]] = wilcoxon(all_scores, all_chance, zero_method=\"zsplit\").pvalue\n",
    "        print(result[\"p_val_\" + y_labels[i]])\n",
    "    \n",
    "    print(result)\n",
    "#     results.append(result)"
   ]
  },
  {
   "cell_type": "code",
   "execution_count": null,
   "metadata": {},
   "outputs": [],
   "source": [
    "np.save(\"syntactic_information_analysis_results.npy\", results)"
   ]
  },
  {
   "cell_type": "code",
   "execution_count": null,
   "metadata": {},
   "outputs": [],
   "source": [
    "results = np.load(\"syntactic_information_analysis_results.npy\", allow_pickle = True).tolist()\n",
    "for i in range(len(results)):\n",
    "    for k in results[i]:\n",
    "        if k.startswith(\"level\"):\n",
    "            results[i][k] *= 100\n",
    "            results[i][k] = np.round(results[i][k], 2)\n",
    "\n",
    "np.save(\"syntactic_information_analysis_results_formatted\",results)\n",
    "\n",
    "df = pd.DataFrame(results)\n",
    "df.to_csv(\"final_syntactic_information_analysis_results.csv\")"
   ]
  },
  {
   "cell_type": "code",
   "execution_count": null,
   "metadata": {},
   "outputs": [],
   "source": [
    "# generate table for label distribution\n",
    "dist = []\n",
    "label_names = {0: \"noun_phrase\", 1: \"verb_phrase\", 2: \"adverb_phrase\", 3: \"adjective_phrase\", 4: \"prepositional_phrase\", 5: \"clause\", 6: \"other\"}\n",
    "\n",
    "for i in range(len(all_y)):\n",
    "    d = {\"level\" : y_labels[i]}\n",
    "    for lab in range(7):\n",
    "        su = (all_y[i] == lab).sum()\n",
    "        d[label_names[lab]] = su\n",
    "        d[label_names[lab] + \"(%)\"] = su/all_y[i].shape[0]\n",
    "    dist.append(d)\n",
    "    \n",
    "dist_df = pd.DataFrame(dist)\n",
    "dist_df"
   ]
  },
  {
   "cell_type": "code",
   "execution_count": null,
   "metadata": {},
   "outputs": [],
   "source": []
  }
 ],
 "metadata": {
  "kernelspec": {
   "display_name": "Python 3",
   "language": "python",
   "name": "python3"
  },
  "language_info": {
   "codemirror_mode": {
    "name": "ipython",
    "version": 3
   },
   "file_extension": ".py",
   "mimetype": "text/x-python",
   "name": "python",
   "nbconvert_exporter": "python",
   "pygments_lexer": "ipython3",
   "version": "3.7.6"
  }
 },
 "nbformat": 4,
 "nbformat_minor": 4
}
