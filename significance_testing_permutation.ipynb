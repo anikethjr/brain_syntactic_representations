{
 "cells": [
  {
   "cell_type": "code",
   "execution_count": 1,
   "metadata": {},
   "outputs": [],
   "source": [
    "import nltk\n",
    "import numpy as np\n",
    "from scipy.io import loadmat\n",
    "from sklearn.neural_network import MLPRegressor\n",
    "from sklearn.linear_model import Lasso, Ridge\n",
    "from sklearn.model_selection import cross_val_score\n",
    "from sklearn.metrics import r2_score\n",
    "from scipy import stats\n",
    "from sklearn.decomposition import PCA\n",
    "from IPython.core.debugger import set_trace\n",
    "import pickle\n",
    "import os\n",
    "from tqdm import tqdm\n",
    "import random\n",
    "from joblib import Parallel, delayed\n",
    "\n",
    "random.seed(97)\n",
    "np.random.seed(97)"
   ]
  },
  {
   "cell_type": "code",
   "execution_count": 2,
   "metadata": {},
   "outputs": [],
   "source": [
    "def compute_sig(sub,feat):\n",
    "    print(\"Subject {} Feature {}\".format(sub,feat))\n",
    "        \n",
    "    save_dir = root_save_dir + feat + \"/\"\n",
    "    if os.path.exists(root_save_dir + feat + \"/{}_sig.npy\".format(sub)):\n",
    "        return 0.0002\n",
    "    \n",
    "    reals = []\n",
    "    for split_num in range(4):\n",
    "        reals.append(np.load(save_dir + sub + \"_y_test_{}.npy\".format(split_num)))\n",
    "    all_reals = np.vstack(reals)\n",
    "\n",
    "    preds = []\n",
    "    for split_num in range(4):\n",
    "        preds.append(np.load(save_dir + sub + \"_y_pred_{}.npy\".format(split_num)))\n",
    "    all_preds = np.vstack(preds)\n",
    "\n",
    "    real_r2 = np.load(save_dir + sub + \"_r2s.npy\")\n",
    "    greater = np.zeros(preds[0].shape[1])\n",
    "\n",
    "    blocks = []\n",
    "    for i in range(4):\n",
    "        p = np.array([preds[i][j:j+blocksize] for j in range(0,len(preds[i]),blocksize)])\n",
    "        blocks.append(p)\n",
    "\n",
    "    for s in tqdm(range(iters)):\n",
    "        new_preds = []\n",
    "        for i in range(4):\n",
    "            perm = np.random.permutation(len(blocks[i]))\n",
    "            bl = blocks[i][perm]\n",
    "            shuffled_preds = np.vstack(bl)\n",
    "            new_preds.append(shuffled_preds)\n",
    "        new_preds = np.vstack(new_preds)\n",
    "        shuffled_r2 = r2_score(all_reals,new_preds,multioutput=\"raw_values\")\n",
    "        shuffled_r2[real_r2 == 0] = 0\n",
    "        greater[shuffled_r2 >= real_r2] += 1            \n",
    "    sig = greater/iters\n",
    "    sig[sig == 0] = 1/iters\n",
    "    np.save(root_save_dir + feat + \"/{}_sig.npy\".format(sub),sig)\n",
    "    return np.min(sig)"
   ]
  },
  {
   "cell_type": "code",
   "execution_count": 3,
   "metadata": {},
   "outputs": [
    {
     "name": "stdout",
     "output_type": "stream",
     "text": [
      "['punct_final']\n",
      "1\n"
     ]
    },
    {
     "data": {
      "text/plain": [
       "[0.0002, 0.0002, 0.0002, 0.0002, 0.0002, 0.0002, 0.0002, 0.0002, 0.0002]"
      ]
     },
     "execution_count": 3,
     "metadata": {},
     "output_type": "execute_result"
    }
   ],
   "source": [
    "root_save_dir = \"predictions_remove_overlap/\"\n",
    "if not os.path.exists(root_save_dir):\n",
    "    os.mkdir(root_save_dir)\n",
    "\n",
    "all_features = [\"punct_final\"]\n",
    "\n",
    "print(all_features)\n",
    "print(len(all_features))\n",
    "all_subjects = [\"F\",\"G\",\"H\",\"I\",\"J\",\"K\",\"L\",\"M\",\"N\"]\n",
    "sub_data = \"sub_space_data/\"\n",
    "\n",
    "blocksize = 10\n",
    "iters = 5000\n",
    "\n",
    "Parallel(n_jobs=28)(delayed(compute_sig)(sub,feat) for sub in all_subjects for feat in all_features)"
   ]
  },
  {
   "cell_type": "code",
   "execution_count": null,
   "metadata": {},
   "outputs": [],
   "source": []
  }
 ],
 "metadata": {
  "kernelspec": {
   "display_name": "Python 3",
   "language": "python",
   "name": "python3"
  },
  "language_info": {
   "codemirror_mode": {
    "name": "ipython",
    "version": 3
   },
   "file_extension": ".py",
   "mimetype": "text/x-python",
   "name": "python",
   "nbconvert_exporter": "python",
   "pygments_lexer": "ipython3",
   "version": "3.8.5"
  }
 },
 "nbformat": 4,
 "nbformat_minor": 2
}
