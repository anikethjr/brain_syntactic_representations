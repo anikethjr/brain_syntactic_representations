{
 "cells": [
  {
   "cell_type": "code",
   "execution_count": 1,
   "metadata": {},
   "outputs": [],
   "source": [
    "import spacy\n",
    "from spacy import displacy\n",
    "import numpy as np\n",
    "from IPython.core.debugger import set_trace\n",
    "import os\n",
    "import pdb\n",
    "\n",
    "save_dir = \"features\"\n",
    "if not os.path.exists(save_dir):\n",
    "    os.mkdir(save_dir)\n",
    "    \n",
    "nlp = spacy.load(\"en_core_web_lg\")"
   ]
  },
  {
   "cell_type": "code",
   "execution_count": 2,
   "metadata": {},
   "outputs": [],
   "source": [
    "hp_text = open(\"chapter9.txt\",\"r\").readlines()\n",
    "all_text = []\n",
    "para = \"\"\n",
    "for i in range(len(hp_text)):\n",
    "    hp_text[i] = hp_text[i].strip()\n",
    "    if hp_text[i]!=\"+\":\n",
    "        para += hp_text[i] + \" \"\n",
    "    else:\n",
    "        all_text.append(para)\n",
    "        para = \"\""
   ]
  },
  {
   "cell_type": "code",
   "execution_count": 3,
   "metadata": {},
   "outputs": [
    {
     "name": "stdout",
     "output_type": "stream",
     "text": [
      "(5176, 300)\n"
     ]
    }
   ],
   "source": [
    "all_vecs = []\n",
    "for i in range(len(hp_text)):\n",
    "    all_vecs.append([])\n",
    "\n",
    "ind = 0\n",
    "rem_len = len(hp_text[ind])\n",
    "for para in all_text:\n",
    "    proc = nlp(para)\n",
    "    for word in proc:\n",
    "        all_vecs[ind].append(word.vector)\n",
    "        rem_len -= len(word.text)\n",
    "        if rem_len <= 0:\n",
    "            ind += 1\n",
    "            while(ind < len(hp_text) and hp_text[ind] == \"+\"):\n",
    "                ind += 1\n",
    "            if ind < len(hp_text):\n",
    "                rem_len = len(hp_text[ind]) + rem_len\n",
    "c = [[hp_text[i],all_vecs[i]] for i in range(5176)]\n",
    "for i, entry in enumerate(c):\n",
    "    if c[i][0] == \"+\":\n",
    "        c[i][1] = np.zeros(300)\n",
    "    else:\n",
    "        c[i][1] = np.mean(np.array(c[i][1]), axis=0).reshape(-1)\n",
    "    if c[i][1].shape != (300,):\n",
    "        pdb.set_trace()\n",
    "\n",
    "final_vecs = np.array([i[1] for i in c])\n",
    "print(final_vecs.shape)\n",
    "\n",
    "np.save(os.path.join(save_dir, \"spacy_semantic_vecs.npy\"), final_vecs)"
   ]
  },
  {
   "cell_type": "code",
   "execution_count": null,
   "metadata": {},
   "outputs": [],
   "source": []
  }
 ],
 "metadata": {
  "kernelspec": {
   "display_name": "Python 3",
   "language": "python",
   "name": "python3"
  },
  "language_info": {
   "codemirror_mode": {
    "name": "ipython",
    "version": 3
   },
   "file_extension": ".py",
   "mimetype": "text/x-python",
   "name": "python",
   "nbconvert_exporter": "python",
   "pygments_lexer": "ipython3",
   "version": "3.8.5"
  }
 },
 "nbformat": 4,
 "nbformat_minor": 4
}
