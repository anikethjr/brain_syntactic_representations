{
 "cells": [
  {
   "cell_type": "code",
   "execution_count": 1,
   "metadata": {},
   "outputs": [],
   "source": [
    "import numpy as np\n",
    "from sklearn.linear_model import LogisticRegression, LinearRegression, RidgeClassifierCV, RidgeCV\n",
    "from sklearn.ensemble import RandomForestClassifier\n",
    "from sklearn.neural_network import MLPClassifier\n",
    "from sklearn.model_selection import StratifiedKFold, KFold\n",
    "from sklearn.model_selection import cross_val_score\n",
    "import pandas as pd\n",
    "from collections import Counter\n",
    "from scipy.stats import wilcoxon\n",
    "from IPython.core.debugger import set_trace\n",
    "import os\n",
    "import pdb\n",
    "\n",
    "np.random.seed(97)"
   ]
  },
  {
   "cell_type": "code",
   "execution_count": 2,
   "metadata": {},
   "outputs": [],
   "source": [
    "all_features_to_predict = [\"spacy_semantic_vecs\"]\n",
    "metrics = [\"r2\"]\n",
    "all_input_features = [\"incremental_bert_embeddings_layer12\", \\\n",
    "                      \"contrege_comp_set_0\", \"contrege_comp_set_1\", \"contrege_comp_set_2\", \"contrege_comp_set_3\", \"contrege_comp_set_4\",\\\n",
    "                     \"contrege_incomp_set_0\", \"contrege_incomp_set_1\", \"contrege_incomp_set_2\", \"contrege_incomp_set_3\", \"contrege_incomp_set_4\",\\\n",
    "                     \"incontrege_set_0\", \"incontrege_set_1\", \"incontrege_set_2\", \"incontrege_set_3\", \"incontrege_set_4\"]"
   ]
  },
  {
   "cell_type": "code",
   "execution_count": 3,
   "metadata": {},
   "outputs": [],
   "source": [
    "all_x = []\n",
    "all_y = []\n",
    "\n",
    "for i, feat in enumerate(all_input_features):\n",
    "    x = np.load(os.path.join(\"features\", feat + \".npy\"))\n",
    "    all_x.append(x)\n",
    "\n",
    "for j, out in enumerate(all_features_to_predict):\n",
    "    y = np.load(os.path.join(\"features\", out + \".npy\"))\n",
    "    all_y.append(y)"
   ]
  },
  {
   "cell_type": "code",
   "execution_count": 4,
   "metadata": {},
   "outputs": [
    {
     "name": "stdout",
     "output_type": "stream",
     "text": [
      "Predicting using incremental_bert_embeddings_layer12\n",
      "r2 while predicting spacy_semantic_vecs = 0.18536845903783322\n",
      "\n",
      "Predicting using contrege_comp_set_0\n",
      "r2 while predicting spacy_semantic_vecs = 0.05180721910327216\n",
      "\n",
      "Predicting using contrege_comp_set_1\n",
      "r2 while predicting spacy_semantic_vecs = 0.052162110515056835\n",
      "\n",
      "Predicting using contrege_comp_set_2\n",
      "r2 while predicting spacy_semantic_vecs = 0.05134132085576508\n",
      "\n",
      "Predicting using contrege_comp_set_3\n",
      "r2 while predicting spacy_semantic_vecs = 0.0523368386700116\n",
      "\n",
      "Predicting using contrege_comp_set_4\n",
      "r2 while predicting spacy_semantic_vecs = 0.050521799677966994\n",
      "\n",
      "Predicting using contrege_incomp_set_0\n",
      "r2 while predicting spacy_semantic_vecs = 0.019135909353539683\n",
      "\n",
      "Predicting using contrege_incomp_set_1\n",
      "r2 while predicting spacy_semantic_vecs = 0.020406839394256977\n",
      "\n",
      "Predicting using contrege_incomp_set_2\n",
      "r2 while predicting spacy_semantic_vecs = 0.01857878511735908\n",
      "\n",
      "Predicting using contrege_incomp_set_3\n",
      "r2 while predicting spacy_semantic_vecs = 0.019318425719720693\n",
      "\n",
      "Predicting using contrege_incomp_set_4\n",
      "r2 while predicting spacy_semantic_vecs = 0.020564909911505194\n",
      "\n",
      "Predicting using incontrege_set_0\n",
      "r2 while predicting spacy_semantic_vecs = 0.022430161120952148\n",
      "\n",
      "Predicting using incontrege_set_1\n",
      "r2 while predicting spacy_semantic_vecs = 0.02174902085617781\n",
      "\n",
      "Predicting using incontrege_set_2\n",
      "r2 while predicting spacy_semantic_vecs = 0.02100547184544497\n",
      "\n",
      "Predicting using incontrege_set_3\n",
      "r2 while predicting spacy_semantic_vecs = 0.021447661456931385\n",
      "\n",
      "Predicting using incontrege_set_4\n",
      "r2 while predicting spacy_semantic_vecs = 0.02072190092099995\n",
      "\n"
     ]
    }
   ],
   "source": [
    "all_scores = {}\n",
    "for i, feat in enumerate(all_input_features):\n",
    "    print(\"Predicting using {}\".format(feat))\n",
    "    for j, out in enumerate(all_features_to_predict):\n",
    "        np.random.seed(97)\n",
    "        clf = RidgeCV(alphas=np.logspace(-10, 10, num=10), scoring=metrics[j])\n",
    "        skf = KFold(n_splits=10)\n",
    "        scores = cross_val_score(clf, all_x[i], all_y[j], cv=skf, scoring=metrics[j])\n",
    "        print(\"{} while predicting {} = {}\".format(metrics[j], out, scores.mean()))\n",
    "        all_scores[\"{}_{}\".format(feat, out)] = scores\n",
    "    print()"
   ]
  },
  {
   "cell_type": "code",
   "execution_count": 5,
   "metadata": {},
   "outputs": [
    {
     "name": "stdout",
     "output_type": "stream",
     "text": [
      "Average R2 for contrege_comp = 0.05163385776441454\n",
      "Average R2 for contrege_incomp = 0.019600973899276328\n",
      "Average R2 for incontrege = 0.021470843240101255\n"
     ]
    }
   ],
   "source": [
    "all_contrege_sets = [\"contrege_comp\", \"contrege_incomp\", \"incontrege\"]\n",
    "num_sets = 5\n",
    "\n",
    "for s in all_contrege_sets:\n",
    "    avg = 0.0\n",
    "    for i in range(num_sets):\n",
    "        avg += all_scores[\"{}_set_{}_spacy_semantic_vecs\".format(s, i)].mean() / num_sets\n",
    "    print(\"Average R2 for {} = {}\".format(s, avg))"
   ]
  },
  {
   "cell_type": "code",
   "execution_count": null,
   "metadata": {},
   "outputs": [],
   "source": []
  }
 ],
 "metadata": {
  "kernelspec": {
   "display_name": "Python 3",
   "language": "python",
   "name": "python3"
  },
  "language_info": {
   "codemirror_mode": {
    "name": "ipython",
    "version": 3
   },
   "file_extension": ".py",
   "mimetype": "text/x-python",
   "name": "python",
   "nbconvert_exporter": "python",
   "pygments_lexer": "ipython3",
   "version": "3.7.6"
  }
 },
 "nbformat": 4,
 "nbformat_minor": 4
}
